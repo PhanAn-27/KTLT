{
 "cells": [
  {
   "cell_type": "markdown",
   "id": "499b2894",
   "metadata": {},
   "source": [
    "### 1.2a Chạy hello world"
   ]
  },
  {
   "cell_type": "code",
   "execution_count": 33,
   "id": "6f523f92",
   "metadata": {},
   "outputs": [
    {
     "name": "stdout",
     "output_type": "stream",
     "text": [
      "hello world\n"
     ]
    }
   ],
   "source": [
    "print('hello world')"
   ]
  },
  {
   "cell_type": "markdown",
   "id": "b033cb01",
   "metadata": {},
   "source": [
    "### 1.2b Chạy hello world với tên của mình"
   ]
  },
  {
   "cell_type": "code",
   "execution_count": 34,
   "id": "3755f9ba",
   "metadata": {},
   "outputs": [
    {
     "name": "stdout",
     "output_type": "stream",
     "text": [
      "hello world\n",
      "Phan Lac An\n"
     ]
    }
   ],
   "source": [
    "print('hello world\\nPhan Lac An')"
   ]
  },
  {
   "cell_type": "markdown",
   "id": "19777e5e",
   "metadata": {},
   "source": [
    "### 1.2c Giải phương trình bậc 2 với số thực và phức"
   ]
  },
  {
   "cell_type": "code",
   "execution_count": 35,
   "id": "0d977b51",
   "metadata": {},
   "outputs": [],
   "source": [
    "import numpy as np\n",
    "import math"
   ]
  },
  {
   "cell_type": "code",
   "execution_count": 36,
   "id": "dbefe39e",
   "metadata": {},
   "outputs": [
    {
     "name": "stdout",
     "output_type": "stream",
     "text": [
      "Nhập hệ số a: 1\n",
      "Nhập hệ số b: 1\n",
      "Nhập hệ số c: 1\n",
      "2 nghiệm số phức:\n",
      " X = -1.0 + i*0.8660254037844386 và -1.0 - i*0.8660254037844386\n"
     ]
    }
   ],
   "source": [
    "a = input(\"Nhập hệ số a: \")\n",
    "a = float(a)\n",
    "b = input(\"Nhập hệ số b: \")\n",
    "b = float(b)\n",
    "c = input(\"Nhập hệ số c: \")\n",
    "c = float(c)\n",
    "\n",
    "delta = b ** 2 - (4 * a * c)\n",
    "if delta >= 0:\n",
    "    x_1 = (-b + math.sqrt(b ** 2 - (4 * a * c))) / 2 * a\n",
    "    x_2 = (-b - math.sqrt(b ** 2 - (4 * a * c))) / 2 * a\n",
    "    print(\"2 nghiệm số thực: \")\n",
    "    print(f\" X = {x_1} và {x_2}\")\n",
    "    print()\n",
    "else:\n",
    "    print(\"2 nghiệm số phức:\")\n",
    "    real = -b\n",
    "    imag = abs(math.sqrt(-delta) / (2 * a))\n",
    "    print(f\" X = {real} + i*{imag} và {real} - i*{imag}\")"
   ]
  },
  {
   "cell_type": "markdown",
   "id": "7cd1a3d8",
   "metadata": {},
   "source": [
    "### 1.2d In ra cây thông Noel"
   ]
  },
  {
   "cell_type": "code",
   "execution_count": 37,
   "id": "9328741c",
   "metadata": {},
   "outputs": [
    {
     "name": "stdout",
     "output_type": "stream",
     "text": [
      "Nhập chiều cao của cây thông: 11\n",
      "           *\n",
      "          ***\n",
      "         *****\n",
      "        *******\n",
      "       *********\n",
      "      ***********\n",
      "     *************\n",
      "    ***************\n",
      "   *****************\n",
      "  *******************\n",
      " *********************\n",
      "           |\n"
     ]
    }
   ],
   "source": [
    "height = int(input(\"Nhập chiều cao của cây thông: \"))\n",
    "for i in range(height):\n",
    "    print((' ' * (height - i)) + ('*' * ((2 * i) + 1)))\n",
    "print((' ' * height) + '|')\n"
   ]
  },
  {
   "cell_type": "markdown",
   "id": "dfa5768f",
   "metadata": {},
   "source": [
    "### 2.1 Đọc, thêm dữ liệu, xóa dữ liệu, cập nhật dữ liệu từ file"
   ]
  },
  {
   "cell_type": "code",
   "execution_count": 40,
   "id": "de924466",
   "metadata": {},
   "outputs": [
    {
     "name": "stdout",
     "output_type": "stream",
     "text": [
      "hello\n"
     ]
    }
   ],
   "source": [
    "#Đọc file\n",
    "with open('read.txt') as rf:\n",
    "    content = rf.read()\n",
    "print(content)"
   ]
  },
  {
   "cell_type": "code",
   "execution_count": 45,
   "id": "b06cef75",
   "metadata": {},
   "outputs": [
    {
     "name": "stdout",
     "output_type": "stream",
     "text": [
      "Nhap du lieu dang text: abc\n",
      "abc\n"
     ]
    }
   ],
   "source": [
    "#Ghi file\n",
    "texts = []\n",
    "texts.append(input('Nhap du lieu dang text: '))\n",
    "with open('data.txt', 'w', encoding=\"utf-8\") as wf:\n",
    "    wf.writelines(texts)\n",
    "with open('data.txt') as rf:\n",
    "    content = rf.read()\n",
    "print(content)"
   ]
  },
  {
   "cell_type": "code",
   "execution_count": 46,
   "id": "6dbcab7f",
   "metadata": {},
   "outputs": [
    {
     "name": "stdout",
     "output_type": "stream",
     "text": [
      "Them du lieu vao file: asd\n",
      "apple\n",
      "orange\n",
      "banana\n",
      "asd\n",
      "\n"
     ]
    }
   ],
   "source": [
    "#Thêm dữ liệu vào file\n",
    "texts = [\n",
    "    \"apple\",\n",
    "    \"orange\",\n",
    "    \"banana\"\n",
    "]\n",
    "with open('data.txt', 'w', encoding=\"utf-8\") as wf:\n",
    "    for text in texts:\n",
    "        wf.write(text + '\\n')\n",
    "with open('data.txt', 'a', encoding=\"utf-8\") as wf:\n",
    "    wf.write(input('Them du lieu vao file: ') + '\\n')\n",
    "with open('data.txt', encoding=\"utf-8\") as rf:\n",
    "    content = rf.read()\n",
    "print(content)"
   ]
  },
  {
   "cell_type": "code",
   "execution_count": 47,
   "id": "77c83473",
   "metadata": {},
   "outputs": [
    {
     "name": "stdout",
     "output_type": "stream",
     "text": [
      "nhap du lieu can xoa: apple\n",
      "orange\n",
      "banana\n",
      "asd\n",
      "\n"
     ]
    }
   ],
   "source": [
    "#Xóa dữ liệu\n",
    "delete = input('nhap du lieu can xoa: ')\n",
    "with open(\"data.txt\", \"r\") as f:\n",
    "    data = f.readlines()\n",
    "with open(\"data.txt\", \"w\") as f:\n",
    "    for line in data :\n",
    "        if line.strip(\"\\n\") != delete : \n",
    "            f.write(line)\n",
    "with open('data.txt', encoding=\"utf-8\") as rf:\n",
    "    content = rf.read()\n",
    "print(content)"
   ]
  },
  {
   "cell_type": "code",
   "execution_count": 48,
   "id": "fc7da8bc",
   "metadata": {},
   "outputs": [
    {
     "name": "stdout",
     "output_type": "stream",
     "text": [
      "orange\n",
      "banana\n",
      "asd\n",
      "rose\n",
      "violet\n",
      "iris\n",
      "\n"
     ]
    }
   ],
   "source": [
    "#Cập nhật dữ liệu từ 1 file khác\n",
    "\n",
    "# tạo file data1\n",
    "texts = [\n",
    "    \"rose\",\n",
    "    \"violet\",\n",
    "    \"iris\"\n",
    "]\n",
    "with open('data1.txt', 'w', encoding=\"utf-8\") as wf:\n",
    "    for text in texts:\n",
    "        wf.write(text + '\\n') \n",
    "\n",
    "# cập nhật dữ liệu từ file data1 vào file data\n",
    "with open('data1.txt') as f:\n",
    "    lines_data1 = f.read().splitlines() \n",
    "with open('data.txt', 'a', encoding=\"utf-8\") as wf:\n",
    "    for text in lines_data1:\n",
    "        wf.write(text + '\\n')\n",
    "with open('data.txt', encoding=\"utf-8\") as rf:\n",
    "    content = rf.read()\n",
    "print(content)"
   ]
  },
  {
   "cell_type": "markdown",
   "id": "dbcdc8d4",
   "metadata": {},
   "source": [
    "### 2.2.1 In ra bảng chữ cái alphabet"
   ]
  },
  {
   "cell_type": "code",
   "execution_count": 88,
   "id": "747ef0a0",
   "metadata": {},
   "outputs": [
    {
     "name": "stdout",
     "output_type": "stream",
     "text": [
      "a b c d e f g h i j k l m n o p q r s t u v w x y z "
     ]
    }
   ],
   "source": [
    "#For để in bảng chữ cái\n",
    "for i in range(97,123):\n",
    "    print(chr(i), end=\" \")\n"
   ]
  },
  {
   "cell_type": "markdown",
   "id": "654f0668",
   "metadata": {},
   "source": [
    "### 2.2.2 Kiểm tra số nguyên tố"
   ]
  },
  {
   "cell_type": "code",
   "execution_count": 10,
   "id": "ab957707",
   "metadata": {},
   "outputs": [
    {
     "name": "stdout",
     "output_type": "stream",
     "text": [
      "1\n",
      "1  không phải là số nguyên tố\n"
     ]
    }
   ],
   "source": [
    "#Ktra số nguyên tố\n",
    "n = int(input())\n",
    "flag = True\n",
    " \n",
    "# Kiểm tra SNT\n",
    "if (n < 2):\n",
    "    flag = False\n",
    "elif (n == 2):\n",
    "    flag = True\n",
    "elif (n % 2 == 0):\n",
    "    flag = False\n",
    "else:\n",
    "    for i in range(3, n, 2):\n",
    "        if (n % i == 0):\n",
    "            flag = False\n",
    "if flag == True:\n",
    "    print(n, \" là số nguyên tố\")\n",
    "else:\n",
    "    print(n, \" không phải là số nguyên tố\")"
   ]
  },
  {
   "cell_type": "markdown",
   "id": "db07ab43",
   "metadata": {},
   "source": [
    "### 2.2.4 Tìm ước chung lớn nhất và bội chung nhỏ nhất"
   ]
  },
  {
   "cell_type": "code",
   "execution_count": 2,
   "id": "3d0c42ca",
   "metadata": {},
   "outputs": [
    {
     "name": "stdout",
     "output_type": "stream",
     "text": [
      "Nhập a:2\n",
      "Nhập b:3\n",
      "Ước số chung lớn nhất của 2 và 3 là: 1\n",
      "Bội số chung nhỏ nhất của 2 và 3 là: 6\n"
     ]
    }
   ],
   "source": [
    "a = int(input(\"Nhập a:\"))\n",
    "b = int(input(\"Nhập b:\"))\n",
    "def UCLN(a, b):\n",
    "    if (b == 0):\n",
    "        return a\n",
    "    return UCLN(b, a % b)\n",
    "print(\"Ước số chung lớn nhất của\", a, \"và\", b, \"là:\", UCLN(a, b))\n",
    "def BCNN(a, b):\n",
    "    return int((a * b) / UCLN(a, b));\n",
    "print(\"Bội số chung nhỏ nhất của\", a, \"và\", b, \"là:\", BCNN(a, b))\n"
   ]
  },
  {
   "cell_type": "code",
   "execution_count": null,
   "id": "060a7e15",
   "metadata": {},
   "outputs": [],
   "source": []
  }
 ],
 "metadata": {
  "kernelspec": {
   "display_name": "Python 3 (ipykernel)",
   "language": "python",
   "name": "python3"
  },
  "language_info": {
   "codemirror_mode": {
    "name": "ipython",
    "version": 3
   },
   "file_extension": ".py",
   "mimetype": "text/x-python",
   "name": "python",
   "nbconvert_exporter": "python",
   "pygments_lexer": "ipython3",
   "version": "3.8.12"
  }
 },
 "nbformat": 4,
 "nbformat_minor": 5
}
