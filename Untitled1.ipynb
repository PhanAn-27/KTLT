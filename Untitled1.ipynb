{
 "cells": [
  {
   "cell_type": "code",
   "execution_count": 10,
   "id": "242b03e2",
   "metadata": {},
   "outputs": [],
   "source": [
    "import numpy as np\n",
    "import math\n",
    "import warnings\n",
    "warnings.filterwarnings('ignore')\n"
   ]
  },
  {
   "cell_type": "code",
   "execution_count": 11,
   "id": "9ce6a356",
   "metadata": {},
   "outputs": [
    {
     "name": "stdout",
     "output_type": "stream",
     "text": [
      "Nhập e: 0.0000000001\n"
     ]
    }
   ],
   "source": [
    "a = 2\n",
    "b = 3.5\n",
    "e = float(input('Nhập e: '))"
   ]
  },
  {
   "cell_type": "code",
   "execution_count": 12,
   "id": "989910e5",
   "metadata": {},
   "outputs": [],
   "source": [
    "def f(x):\n",
    "    f = np.sin(x)\n",
    "    return f"
   ]
  },
  {
   "cell_type": "code",
   "execution_count": 13,
   "id": "e9627278",
   "metadata": {},
   "outputs": [],
   "source": [
    "fa = f(a)\n",
    "if (fa>0): fa = 1\n",
    "elif (fa<0): fa = -1\n",
    "else: fa = 0"
   ]
  },
  {
   "cell_type": "code",
   "execution_count": 14,
   "id": "30f28ed8",
   "metadata": {},
   "outputs": [],
   "source": [
    "while (abs(a-b)>=e):\n",
    "    c = (a+b)/2\n",
    "    z = f(c)\n",
    "    if ((z*fa)>0):\n",
    "        a = c\n",
    "    elif((z*fa)<0):\n",
    "        b = c\n",
    "    else:\n",
    "        print(c)\n",
    "        break"
   ]
  },
  {
   "cell_type": "code",
   "execution_count": 15,
   "id": "2368adc3",
   "metadata": {},
   "outputs": [
    {
     "name": "stdout",
     "output_type": "stream",
     "text": [
      "Giá trị của pi là: 3.1415926535555627\n"
     ]
    }
   ],
   "source": [
    "print('Giá trị của pi là:', c)"
   ]
  },
  {
   "cell_type": "code",
   "execution_count": null,
   "id": "fbe12325",
   "metadata": {},
   "outputs": [],
   "source": []
  }
 ],
 "metadata": {
  "kernelspec": {
   "display_name": "Python 3 (ipykernel)",
   "language": "python",
   "name": "python3"
  },
  "language_info": {
   "codemirror_mode": {
    "name": "ipython",
    "version": 3
   },
   "file_extension": ".py",
   "mimetype": "text/x-python",
   "name": "python",
   "nbconvert_exporter": "python",
   "pygments_lexer": "ipython3",
   "version": "3.8.12"
  }
 },
 "nbformat": 4,
 "nbformat_minor": 5
}
