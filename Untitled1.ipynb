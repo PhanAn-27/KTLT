{
 "cells": [
  {
   "cell_type": "markdown",
   "id": "499b2894",
   "metadata": {},
   "source": [
    "### 1.2a Chạy hello world"
   ]
  },
  {
   "cell_type": "code",
   "execution_count": 2,
   "id": "6f523f92",
   "metadata": {},
   "outputs": [
    {
     "name": "stdout",
     "output_type": "stream",
     "text": [
      "hello world\n"
     ]
    }
   ],
   "source": [
    "print('hello world')"
   ]
  },
  {
   "cell_type": "markdown",
   "id": "b033cb01",
   "metadata": {},
   "source": [
    "### 1.2b Chạy hello world với tên của mình"
   ]
  },
  {
   "cell_type": "code",
   "execution_count": 3,
   "id": "3755f9ba",
   "metadata": {},
   "outputs": [
    {
     "name": "stdout",
     "output_type": "stream",
     "text": [
      "hello world\n",
      "Phan Lac An\n"
     ]
    }
   ],
   "source": [
    "print('hello world\\nPhan Lac An')"
   ]
  },
  {
   "cell_type": "markdown",
   "id": "19777e5e",
   "metadata": {},
   "source": [
    "### 1.2c Giải phương trình bậc 2 với số thực và phức"
   ]
  },
  {
   "cell_type": "code",
   "execution_count": 4,
   "id": "0d977b51",
   "metadata": {},
   "outputs": [],
   "source": [
    "import numpy as np\n",
    "import math"
   ]
  },
  {
   "cell_type": "code",
   "execution_count": 6,
   "id": "dbefe39e",
   "metadata": {},
   "outputs": [
    {
     "name": "stdout",
     "output_type": "stream",
     "text": [
      "Nhập hệ số a: 1\n",
      "Nhập hệ số b: 2\n",
      "Nhập hệ số c: 1\n",
      "2 nghiệm số thực: \n",
      " X = -1.0 và -1.0\n",
      "\n"
     ]
    }
   ],
   "source": [
    "a = input(\"Nhập hệ số a: \")\n",
    "a = float(a)\n",
    "b = input(\"Nhập hệ số b: \")\n",
    "b = float(b)\n",
    "c = input(\"Nhập hệ số c: \")\n",
    "c = float(c)\n",
    "\n",
    "delta = b ** 2 - (4 * a * c)\n",
    "if delta >= 0:\n",
    "    x_1 = (-b + math.sqrt(b ** 2 - (4 * a * c))) / 2 * a\n",
    "    x_2 = (-b - math.sqrt(b ** 2 - (4 * a * c))) / 2 * a\n",
    "    print(\"2 nghiệm số thực: \")\n",
    "    print(f\" X = {x_1} và {x_2}\")\n",
    "    print()\n",
    "else:\n",
    "    print(\"2 nghiệm số phức:\")\n",
    "    real = -b\n",
    "    imag = abs(math.sqrt(-delta) / (2 * a))\n",
    "    print(f\" X = {real} + i*{imag} và {real} - i*{imag}\")"
   ]
  },
  {
   "cell_type": "markdown",
   "id": "7cd1a3d8",
   "metadata": {},
   "source": [
    "### 1.2d In ra cây thông Noel"
   ]
  },
  {
   "cell_type": "code",
   "execution_count": 8,
   "id": "9328741c",
   "metadata": {},
   "outputs": [
    {
     "name": "stdout",
     "output_type": "stream",
     "text": [
      "Nhập chiều cao của cây thông: 11\n",
      "           *\n",
      "          ***\n",
      "         *****\n",
      "        *******\n",
      "       *********\n",
      "      ***********\n",
      "     *************\n",
      "    ***************\n",
      "   *****************\n",
      "  *******************\n",
      " *********************\n",
      "           |\n"
     ]
    }
   ],
   "source": [
    "height = int(input(\"Nhập chiều cao của cây thông: \"))\n",
    "for i in range(height):\n",
    "    print((' ' * (height - i)) + ('*' * ((2 * i) + 1)))\n",
    "print((' ' * height) + '|')\n"
   ]
  },
  {
   "cell_type": "markdown",
   "id": "dfa5768f",
   "metadata": {},
   "source": [
    "### 2.1 Đọc, thêm dữ liệu, xóa dữ liệu, cập nhật dữ liệu từ file"
   ]
  },
  {
   "cell_type": "code",
   "execution_count": 17,
   "id": "de924466",
   "metadata": {},
   "outputs": [
    {
     "name": "stdout",
     "output_type": "stream",
     "text": [
      "hello\n"
     ]
    }
   ],
   "source": [
    "#Đọc file\n",
    "with open('read.txt') as rf:\n",
    "    content = rf.read()\n",
    "print(content)"
   ]
  },
  {
   "cell_type": "code",
   "execution_count": 21,
   "id": "b06cef75",
   "metadata": {},
   "outputs": [
    {
     "name": "stdout",
     "output_type": "stream",
     "text": [
      "Nhap du lieu dang text: abcd\n",
      "abcd\n"
     ]
    }
   ],
   "source": [
    "#Ghi file\n",
    "texts = []\n",
    "texts.append(input('Nhap du lieu dang text: '))\n",
    "with open('data.txt', 'w', encoding=\"utf-8\") as wf:\n",
    "    wf.writelines(texts)\n",
    "with open('data.txt') as rf:\n",
    "    content = rf.read()\n",
    "print(content)"
   ]
  },
  {
   "cell_type": "code",
   "execution_count": 85,
   "id": "6dbcab7f",
   "metadata": {},
   "outputs": [
    {
     "name": "stdout",
     "output_type": "stream",
     "text": [
      "Them du lieu vao file: abc\n",
      "apple\n",
      "orange\n",
      "banana\n",
      "abc\n"
     ]
    }
   ],
   "source": [
    "#Thêm dữ liệu vào file\n",
    "texts = [\n",
    "    \"apple\",\n",
    "    \"orange\",\n",
    "    \"banana\"\n",
    "]\n",
    "with open('data.txt', 'w', encoding=\"utf-8\") as wf:\n",
    "    for text in texts:\n",
    "        wf.write(text + '\\n')\n",
    "with open('data.txt', 'a', encoding=\"utf-8\") as wf:\n",
    "    wf.write(input('Them du lieu vao file: '))\n",
    "with open('data.txt', encoding=\"utf-8\") as rf:\n",
    "    content = rf.read()\n",
    "print(content)"
   ]
  },
  {
   "cell_type": "code",
   "execution_count": 86,
   "id": "77c83473",
   "metadata": {},
   "outputs": [
    {
     "name": "stdout",
     "output_type": "stream",
     "text": [
      "nhap du lieu can xoa: orange\n",
      "apple\n",
      "banana\n",
      "abc\n"
     ]
    }
   ],
   "source": [
    "#Xóa dữ liệu\n",
    "delete = input('nhap du lieu can xoa: ')\n",
    "with open(\"data.txt\", \"w\") as f:\n",
    "      \n",
    "    for line in data :\n",
    "          \n",
    "        # condition for data to be deleted\n",
    "        if line.strip(\"\\n\") != delete : \n",
    "            f.write(line)\n",
    "with open('data.txt', encoding=\"utf-8\") as rf:\n",
    "    content = rf.read()\n",
    "print(content)"
   ]
  },
  {
   "cell_type": "markdown",
   "id": "dbcdc8d4",
   "metadata": {},
   "source": [
    "### 2.2.1 In ra bảng chữ cái alphabet"
   ]
  },
  {
   "cell_type": "code",
   "execution_count": 88,
   "id": "747ef0a0",
   "metadata": {},
   "outputs": [
    {
     "name": "stdout",
     "output_type": "stream",
     "text": [
      "a b c d e f g h i j k l m n o p q r s t u v w x y z "
     ]
    }
   ],
   "source": [
    "#For để in bảng chữ cái\n",
    "for i in range(97,123):\n",
    "    print(chr(i), end=\" \")\n"
   ]
  },
  {
   "cell_type": "markdown",
   "id": "654f0668",
   "metadata": {},
   "source": [
    "### 2.2.2 Kiểm tra số nguyên tố"
   ]
  },
  {
   "cell_type": "code",
   "execution_count": 10,
   "id": "ab957707",
   "metadata": {},
   "outputs": [
    {
     "name": "stdout",
     "output_type": "stream",
     "text": [
      "1\n",
      "1  không phải là số nguyên tố\n"
     ]
    }
   ],
   "source": [
    "#Ktra số nguyên tố\n",
    "n = int(input())\n",
    "flag = True\n",
    " \n",
    "# Kiểm tra SNT\n",
    "if (n < 2):\n",
    "    flag = False\n",
    "elif (n == 2):\n",
    "    flag = True\n",
    "elif (n % 2 == 0):\n",
    "    flag = False\n",
    "else:\n",
    "    for i in range(3, n, 2):\n",
    "        if (n % i == 0):\n",
    "            flag = False\n",
    "if flag == True:\n",
    "    print(n, \" là số nguyên tố\")\n",
    "else:\n",
    "    print(n, \" không phải là số nguyên tố\")"
   ]
  },
  {
   "cell_type": "code",
   "execution_count": null,
   "id": "319d204a",
   "metadata": {},
   "outputs": [],
   "source": [
    "n1 = int(input(\"Nhập số thứ nhất :\"))\n",
    "n2 = int(input(\"Nhập số thứ hai :\"))\n",
    "x = n1\n",
    "y = n2\n",
    "while(n2!=0):\n",
    "    t = n2\n",
    "    n2 = n1 % n2\n",
    "    n1 = t\n",
    "gcd = n1\n",
    "print(\"Ước chung lớn nhất {0} and {1} = {2}\".format(x,y,gcd))\n",
    "lcm = (x*y)/gcd\n",
    "print(\"LCM of {0} and {1} = {2}\".format(x,y,lcm))"
   ]
  },
  {
   "cell_type": "code",
   "execution_count": 11,
   "id": "6f27de8d",
   "metadata": {},
   "outputs": [
    {
     "name": "stdout",
     "output_type": "stream",
     "text": [
      "Enter First number :3\n",
      "Enter Second number :8\n",
      "GCD of 3 and 8 = 1\n",
      "LCM of 3 and 8 = 24.0\n"
     ]
    }
   ],
   "source": [
    "#input two numbers\n",
    "n1 = int(input(\"Enter First number :\"))\n",
    "n2 = int(input(\"Enter Second number :\"))\n",
    "x = n1\n",
    "y = n2\n",
    "while(n2!=0):\n",
    "    t = n2\n",
    "    n2 = n1 % n2\n",
    "    n1 = t\n",
    "gcd = n1\n",
    "print(\"GCD of {0} and {1} = {2}\".format(x,y,gcd))\n",
    "lcm = (x*y)/gcd\n",
    "print(\"LCM of {0} and {1} = {2}\".format(x,y,lcm))"
   ]
  },
  {
   "cell_type": "code",
   "execution_count": null,
   "id": "3d0c42ca",
   "metadata": {},
   "outputs": [],
   "source": []
  }
 ],
 "metadata": {
  "kernelspec": {
   "display_name": "Python 3 (ipykernel)",
   "language": "python",
   "name": "python3"
  },
  "language_info": {
   "codemirror_mode": {
    "name": "ipython",
    "version": 3
   },
   "file_extension": ".py",
   "mimetype": "text/x-python",
   "name": "python",
   "nbconvert_exporter": "python",
   "pygments_lexer": "ipython3",
   "version": "3.8.12"
  }
 },
 "nbformat": 4,
 "nbformat_minor": 5
}
